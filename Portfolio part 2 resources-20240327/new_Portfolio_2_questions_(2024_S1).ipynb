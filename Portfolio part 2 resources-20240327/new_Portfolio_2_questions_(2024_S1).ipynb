{
  "cells": [
    {
      "cell_type": "markdown",
      "id": "Z88FfJc9lA_T",
      "metadata": {
        "id": "Z88FfJc9lA_T"
      },
      "source": [
        "## Analysis of an E-commerce Dataset Part 2"
      ]
    },
    {
      "cell_type": "markdown",
      "id": "hoq0NwA9lA_V",
      "metadata": {
        "id": "hoq0NwA9lA_V"
      },
      "source": [
        "The goal of the second analysis task is to train linear regression models to predict users' ratings towards items. This involves a standard Data Science workflow: exploring data, building models, making predictions, and evaluating results. In this task, we will explore the impacts of feature selections and different sizes of training/testing data on the model performance. We will use another cleaned combined e-commerce sub-dataset that **is different from** the one in “Analysis of an E-commerce Dataset” task 1."
      ]
    },
    {
      "cell_type": "markdown",
      "id": "f9fd3NU_lA_W",
      "metadata": {
        "id": "f9fd3NU_lA_W"
      },
      "source": [
        "### Import Cleaned E-commerce Dataset\n",
        "The csv file named 'cleaned_ecommerce_dataset.csv' is provided. You may need to use the Pandas method, i.e., `read_csv`, for reading it. After that, please print out its total length."
      ]
    },
    {
      "cell_type": "code",
      "execution_count": 7,
      "id": "PJrb2gtAlA_W",
      "metadata": {
        "id": "PJrb2gtAlA_W"
      },
      "outputs": [],
      "source": [
        "\n",
        "import pandas as pd\n",
        "import numpy as np\n",
        "import matplotlib.pyplot as plt\n",
        "%matplotlib inline"
      ]
    },
    {
      "cell_type": "code",
      "execution_count": 8,
      "id": "87c8b2a3",
      "metadata": {},
      "outputs": [
        {
          "data": {
            "text/html": [
              "<div>\n",
              "<style scoped>\n",
              "    .dataframe tbody tr th:only-of-type {\n",
              "        vertical-align: middle;\n",
              "    }\n",
              "\n",
              "    .dataframe tbody tr th {\n",
              "        vertical-align: top;\n",
              "    }\n",
              "\n",
              "    .dataframe thead th {\n",
              "        text-align: right;\n",
              "    }\n",
              "</style>\n",
              "<table border=\"1\" class=\"dataframe\">\n",
              "  <thead>\n",
              "    <tr style=\"text-align: right;\">\n",
              "      <th></th>\n",
              "      <th>userId</th>\n",
              "      <th>timestamp</th>\n",
              "      <th>review</th>\n",
              "      <th>item</th>\n",
              "      <th>rating</th>\n",
              "      <th>helpfulness</th>\n",
              "      <th>gender</th>\n",
              "      <th>category</th>\n",
              "      <th>item_id</th>\n",
              "      <th>item_price</th>\n",
              "      <th>user_city</th>\n",
              "    </tr>\n",
              "  </thead>\n",
              "  <tbody>\n",
              "    <tr>\n",
              "      <th>0</th>\n",
              "      <td>4081</td>\n",
              "      <td>71900</td>\n",
              "      <td>Not always McCrap</td>\n",
              "      <td>McDonald's</td>\n",
              "      <td>4.0</td>\n",
              "      <td>3.0</td>\n",
              "      <td>M</td>\n",
              "      <td>Restaurants &amp; Gourmet</td>\n",
              "      <td>41</td>\n",
              "      <td>30.74</td>\n",
              "      <td>4</td>\n",
              "    </tr>\n",
              "    <tr>\n",
              "      <th>1</th>\n",
              "      <td>4081</td>\n",
              "      <td>72000</td>\n",
              "      <td>I dropped the chalupa even before he told me to</td>\n",
              "      <td>Taco Bell</td>\n",
              "      <td>1.0</td>\n",
              "      <td>4.0</td>\n",
              "      <td>M</td>\n",
              "      <td>Restaurants &amp; Gourmet</td>\n",
              "      <td>74</td>\n",
              "      <td>108.30</td>\n",
              "      <td>4</td>\n",
              "    </tr>\n",
              "    <tr>\n",
              "      <th>2</th>\n",
              "      <td>4081</td>\n",
              "      <td>72000</td>\n",
              "      <td>The Wonderful World of Wendy</td>\n",
              "      <td>Wendy's</td>\n",
              "      <td>5.0</td>\n",
              "      <td>4.0</td>\n",
              "      <td>M</td>\n",
              "      <td>Restaurants &amp; Gourmet</td>\n",
              "      <td>84</td>\n",
              "      <td>69.00</td>\n",
              "      <td>4</td>\n",
              "    </tr>\n",
              "    <tr>\n",
              "      <th>3</th>\n",
              "      <td>4081</td>\n",
              "      <td>100399</td>\n",
              "      <td>They actually did it</td>\n",
              "      <td>South Park: Bigger, Longer &amp; Uncut</td>\n",
              "      <td>5.0</td>\n",
              "      <td>3.0</td>\n",
              "      <td>M</td>\n",
              "      <td>Movies</td>\n",
              "      <td>68</td>\n",
              "      <td>143.11</td>\n",
              "      <td>4</td>\n",
              "    </tr>\n",
              "    <tr>\n",
              "      <th>4</th>\n",
              "      <td>4081</td>\n",
              "      <td>100399</td>\n",
              "      <td>Hey! Gimme some pie!</td>\n",
              "      <td>American Pie</td>\n",
              "      <td>3.0</td>\n",
              "      <td>3.0</td>\n",
              "      <td>M</td>\n",
              "      <td>Movies</td>\n",
              "      <td>6</td>\n",
              "      <td>117.89</td>\n",
              "      <td>4</td>\n",
              "    </tr>\n",
              "  </tbody>\n",
              "</table>\n",
              "</div>"
            ],
            "text/plain": [
              "   userId  timestamp                                           review  \\\n",
              "0    4081      71900                                Not always McCrap   \n",
              "1    4081      72000  I dropped the chalupa even before he told me to   \n",
              "2    4081      72000                     The Wonderful World of Wendy   \n",
              "3    4081     100399                             They actually did it   \n",
              "4    4081     100399                             Hey! Gimme some pie!   \n",
              "\n",
              "                                 item  rating  helpfulness gender  \\\n",
              "0                          McDonald's     4.0          3.0      M   \n",
              "1                           Taco Bell     1.0          4.0      M   \n",
              "2                             Wendy's     5.0          4.0      M   \n",
              "3  South Park: Bigger, Longer & Uncut     5.0          3.0      M   \n",
              "4                        American Pie     3.0          3.0      M   \n",
              "\n",
              "                category  item_id  item_price  user_city  \n",
              "0  Restaurants & Gourmet       41       30.74          4  \n",
              "1  Restaurants & Gourmet       74      108.30          4  \n",
              "2  Restaurants & Gourmet       84       69.00          4  \n",
              "3                 Movies       68      143.11          4  \n",
              "4                 Movies        6      117.89          4  "
            ]
          },
          "execution_count": 8,
          "metadata": {},
          "output_type": "execute_result"
        }
      ],
      "source": [
        "table = pd.read_csv('cleaned_ecommerce_dataset.csv')\n",
        "table.head()"
      ]
    },
    {
      "cell_type": "code",
      "execution_count": 9,
      "id": "7c5bb31d",
      "metadata": {},
      "outputs": [
        {
          "data": {
            "text/plain": [
              "(2685, 11)"
            ]
          },
          "execution_count": 9,
          "metadata": {},
          "output_type": "execute_result"
        }
      ],
      "source": [
        "table.shape"
      ]
    },
    {
      "cell_type": "markdown",
      "id": "aqbuU6rglA_X",
      "metadata": {
        "id": "aqbuU6rglA_X"
      },
      "source": [
        "### Explore the Dataset\n",
        "\n",
        "* Use the methods, i.e., `head()` and `info()`, to have a rough picture about the data, e.g., how many columns, and the data types of each column.\n",
        "* As our goal is to predict ratings given other columns, please get the correlations between helpfulness/gender/category/review and rating by using the `corr()` method.\n",
        "\n",
        "  Hints: To get the correlations between different features, you may need to first convert the categorical features (i.e., gender, category and review) into numerial values. For doing this, you may need to import `OrdinalEncoder` from `sklearn.preprocessing` (refer to the useful exmaples [here](https://pbpython.com/categorical-encoding.html))\n",
        "* Please provide ___necessary explanations/analysis___ on the correlations, and figure out which are the ___most___ and ___least___ corrleated features regarding rating. Try to ___discuss___ how the correlation will affect the final prediction results, if we use these features to train a regression model for rating prediction. In what follows, we will conduct experiments to verify your hypothesis."
      ]
    },
    {
      "cell_type": "code",
      "execution_count": 10,
      "id": "W3PImHiElA_X",
      "metadata": {
        "id": "W3PImHiElA_X"
      },
      "outputs": [
        {
          "data": {
            "text/html": [
              "<div>\n",
              "<style scoped>\n",
              "    .dataframe tbody tr th:only-of-type {\n",
              "        vertical-align: middle;\n",
              "    }\n",
              "\n",
              "    .dataframe tbody tr th {\n",
              "        vertical-align: top;\n",
              "    }\n",
              "\n",
              "    .dataframe thead th {\n",
              "        text-align: right;\n",
              "    }\n",
              "</style>\n",
              "<table border=\"1\" class=\"dataframe\">\n",
              "  <thead>\n",
              "    <tr style=\"text-align: right;\">\n",
              "      <th></th>\n",
              "      <th>userId</th>\n",
              "      <th>timestamp</th>\n",
              "      <th>review</th>\n",
              "      <th>item</th>\n",
              "      <th>rating</th>\n",
              "      <th>helpfulness</th>\n",
              "      <th>gender</th>\n",
              "      <th>category</th>\n",
              "      <th>item_id</th>\n",
              "      <th>item_price</th>\n",
              "      <th>user_city</th>\n",
              "    </tr>\n",
              "  </thead>\n",
              "  <tbody>\n",
              "    <tr>\n",
              "      <th>0</th>\n",
              "      <td>4081</td>\n",
              "      <td>71900</td>\n",
              "      <td>Not always McCrap</td>\n",
              "      <td>McDonald's</td>\n",
              "      <td>4.0</td>\n",
              "      <td>3.0</td>\n",
              "      <td>M</td>\n",
              "      <td>Restaurants &amp; Gourmet</td>\n",
              "      <td>41</td>\n",
              "      <td>30.74</td>\n",
              "      <td>4</td>\n",
              "    </tr>\n",
              "    <tr>\n",
              "      <th>1</th>\n",
              "      <td>4081</td>\n",
              "      <td>72000</td>\n",
              "      <td>I dropped the chalupa even before he told me to</td>\n",
              "      <td>Taco Bell</td>\n",
              "      <td>1.0</td>\n",
              "      <td>4.0</td>\n",
              "      <td>M</td>\n",
              "      <td>Restaurants &amp; Gourmet</td>\n",
              "      <td>74</td>\n",
              "      <td>108.30</td>\n",
              "      <td>4</td>\n",
              "    </tr>\n",
              "    <tr>\n",
              "      <th>2</th>\n",
              "      <td>4081</td>\n",
              "      <td>72000</td>\n",
              "      <td>The Wonderful World of Wendy</td>\n",
              "      <td>Wendy's</td>\n",
              "      <td>5.0</td>\n",
              "      <td>4.0</td>\n",
              "      <td>M</td>\n",
              "      <td>Restaurants &amp; Gourmet</td>\n",
              "      <td>84</td>\n",
              "      <td>69.00</td>\n",
              "      <td>4</td>\n",
              "    </tr>\n",
              "    <tr>\n",
              "      <th>3</th>\n",
              "      <td>4081</td>\n",
              "      <td>100399</td>\n",
              "      <td>They actually did it</td>\n",
              "      <td>South Park: Bigger, Longer &amp; Uncut</td>\n",
              "      <td>5.0</td>\n",
              "      <td>3.0</td>\n",
              "      <td>M</td>\n",
              "      <td>Movies</td>\n",
              "      <td>68</td>\n",
              "      <td>143.11</td>\n",
              "      <td>4</td>\n",
              "    </tr>\n",
              "    <tr>\n",
              "      <th>4</th>\n",
              "      <td>4081</td>\n",
              "      <td>100399</td>\n",
              "      <td>Hey! Gimme some pie!</td>\n",
              "      <td>American Pie</td>\n",
              "      <td>3.0</td>\n",
              "      <td>3.0</td>\n",
              "      <td>M</td>\n",
              "      <td>Movies</td>\n",
              "      <td>6</td>\n",
              "      <td>117.89</td>\n",
              "      <td>4</td>\n",
              "    </tr>\n",
              "  </tbody>\n",
              "</table>\n",
              "</div>"
            ],
            "text/plain": [
              "   userId  timestamp                                           review  \\\n",
              "0    4081      71900                                Not always McCrap   \n",
              "1    4081      72000  I dropped the chalupa even before he told me to   \n",
              "2    4081      72000                     The Wonderful World of Wendy   \n",
              "3    4081     100399                             They actually did it   \n",
              "4    4081     100399                             Hey! Gimme some pie!   \n",
              "\n",
              "                                 item  rating  helpfulness gender  \\\n",
              "0                          McDonald's     4.0          3.0      M   \n",
              "1                           Taco Bell     1.0          4.0      M   \n",
              "2                             Wendy's     5.0          4.0      M   \n",
              "3  South Park: Bigger, Longer & Uncut     5.0          3.0      M   \n",
              "4                        American Pie     3.0          3.0      M   \n",
              "\n",
              "                category  item_id  item_price  user_city  \n",
              "0  Restaurants & Gourmet       41       30.74          4  \n",
              "1  Restaurants & Gourmet       74      108.30          4  \n",
              "2  Restaurants & Gourmet       84       69.00          4  \n",
              "3                 Movies       68      143.11          4  \n",
              "4                 Movies        6      117.89          4  "
            ]
          },
          "execution_count": 10,
          "metadata": {},
          "output_type": "execute_result"
        }
      ],
      "source": [
        "table.head()"
      ]
    },
    {
      "cell_type": "code",
      "execution_count": 11,
      "id": "83557096",
      "metadata": {},
      "outputs": [
        {
          "name": "stdout",
          "output_type": "stream",
          "text": [
            "<class 'pandas.core.frame.DataFrame'>\n",
            "RangeIndex: 2685 entries, 0 to 2684\n",
            "Data columns (total 11 columns):\n",
            " #   Column       Non-Null Count  Dtype  \n",
            "---  ------       --------------  -----  \n",
            " 0   userId       2685 non-null   int64  \n",
            " 1   timestamp    2685 non-null   int64  \n",
            " 2   review       2685 non-null   object \n",
            " 3   item         2685 non-null   object \n",
            " 4   rating       2685 non-null   float64\n",
            " 5   helpfulness  2685 non-null   float64\n",
            " 6   gender       2685 non-null   object \n",
            " 7   category     2685 non-null   object \n",
            " 8   item_id      2685 non-null   int64  \n",
            " 9   item_price   2685 non-null   float64\n",
            " 10  user_city    2685 non-null   int64  \n",
            "dtypes: float64(3), int64(4), object(4)\n",
            "memory usage: 230.9+ KB\n"
          ]
        }
      ],
      "source": [
        "table.info()"
      ]
    },
    {
      "cell_type": "code",
      "execution_count": 13,
      "id": "3a77085a",
      "metadata": {},
      "outputs": [],
      "source": [
        "from sklearn.preprocessing import OrdinalEncoder"
      ]
    },
    {
      "cell_type": "code",
      "execution_count": 14,
      "id": "26128568",
      "metadata": {},
      "outputs": [],
      "source": [
        "#Create an instance of OrdinalEncoder\n",
        "encoder = OrdinalEncoder()"
      ]
    },
    {
      "cell_type": "code",
      "execution_count": 15,
      "id": "9daa2293",
      "metadata": {},
      "outputs": [],
      "source": [
        "\n",
        "table[['gender', 'category', 'review']] = encoder.fit_transform(\n",
        "    table[['gender', 'category', 'review']]\n",
        ")"
      ]
    },
    {
      "cell_type": "code",
      "execution_count": 17,
      "id": "b8d78b20",
      "metadata": {},
      "outputs": [
        {
          "data": {
            "text/html": [
              "<div>\n",
              "<style scoped>\n",
              "    .dataframe tbody tr th:only-of-type {\n",
              "        vertical-align: middle;\n",
              "    }\n",
              "\n",
              "    .dataframe tbody tr th {\n",
              "        vertical-align: top;\n",
              "    }\n",
              "\n",
              "    .dataframe thead th {\n",
              "        text-align: right;\n",
              "    }\n",
              "</style>\n",
              "<table border=\"1\" class=\"dataframe\">\n",
              "  <thead>\n",
              "    <tr style=\"text-align: right;\">\n",
              "      <th></th>\n",
              "      <th>helpfulness</th>\n",
              "      <th>gender</th>\n",
              "      <th>category</th>\n",
              "      <th>review</th>\n",
              "      <th>rating</th>\n",
              "    </tr>\n",
              "  </thead>\n",
              "  <tbody>\n",
              "    <tr>\n",
              "      <th>helpfulness</th>\n",
              "      <td>1.000000</td>\n",
              "      <td>0.075947</td>\n",
              "      <td>-0.013408</td>\n",
              "      <td>-0.028259</td>\n",
              "      <td>-0.007523</td>\n",
              "    </tr>\n",
              "    <tr>\n",
              "      <th>gender</th>\n",
              "      <td>0.075947</td>\n",
              "      <td>1.000000</td>\n",
              "      <td>0.022549</td>\n",
              "      <td>-0.037884</td>\n",
              "      <td>-0.034337</td>\n",
              "    </tr>\n",
              "    <tr>\n",
              "      <th>category</th>\n",
              "      <td>-0.013408</td>\n",
              "      <td>0.022549</td>\n",
              "      <td>1.000000</td>\n",
              "      <td>0.001970</td>\n",
              "      <td>-0.163158</td>\n",
              "    </tr>\n",
              "    <tr>\n",
              "      <th>review</th>\n",
              "      <td>-0.028259</td>\n",
              "      <td>-0.037884</td>\n",
              "      <td>0.001970</td>\n",
              "      <td>1.000000</td>\n",
              "      <td>-0.036118</td>\n",
              "    </tr>\n",
              "    <tr>\n",
              "      <th>rating</th>\n",
              "      <td>-0.007523</td>\n",
              "      <td>-0.034337</td>\n",
              "      <td>-0.163158</td>\n",
              "      <td>-0.036118</td>\n",
              "      <td>1.000000</td>\n",
              "    </tr>\n",
              "  </tbody>\n",
              "</table>\n",
              "</div>"
            ],
            "text/plain": [
              "             helpfulness    gender  category    review    rating\n",
              "helpfulness     1.000000  0.075947 -0.013408 -0.028259 -0.007523\n",
              "gender          0.075947  1.000000  0.022549 -0.037884 -0.034337\n",
              "category       -0.013408  0.022549  1.000000  0.001970 -0.163158\n",
              "review         -0.028259 -0.037884  0.001970  1.000000 -0.036118\n",
              "rating         -0.007523 -0.034337 -0.163158 -0.036118  1.000000"
            ]
          },
          "execution_count": 17,
          "metadata": {},
          "output_type": "execute_result"
        }
      ],
      "source": [
        "table1 = table[['helpfulness', 'gender', 'category', 'review', 'rating']]\n",
        "table1.corr()"
      ]
    },
    {
      "cell_type": "markdown",
      "id": "ce79bc24",
      "metadata": {},
      "source": [
        " Explanation and Analysis\n",
        "* Positive value of correlation close to 1 represent a strong positive relationship with ratings\n",
        "* Negative value of correlation close to -1 represent a strong negative relationship with ratings\n",
        "* Value of correlation close to 0 represent weaker relationships\n",
        "* The most correlated feature regarding rating is rating and the least is category\n"
      ]
    },
    {
      "cell_type": "markdown",
      "id": "4myP5igslA_Y",
      "metadata": {
        "id": "4myP5igslA_Y"
      },
      "source": [
        "### Split Training and Testing Data\n",
        "* Machine learning models are trained to help make predictions for the future. Normally, we need to randomly split the dataset into training and testing sets, where we use the training set to train the model, and then leverage the well-trained model to make predictions on the testing set.\n",
        "* To further investigate whether the size of the training/testing data affects the model performance, please random split the data into training and testing sets with different sizes:\n",
        "    * Case 1: training data containing 10% of the entire data;\n",
        "    * Case 2: training data containing 90% of the entire data.\n",
        "* Print the shape of training and testing sets in the two cases."
      ]
    },
    {
      "cell_type": "code",
      "execution_count": null,
      "id": "JIDMig9blA_Y",
      "metadata": {
        "id": "JIDMig9blA_Y"
      },
      "outputs": [],
      "source": []
    },
    {
      "cell_type": "markdown",
      "id": "DjSsgT0BlA_Y",
      "metadata": {
        "id": "DjSsgT0BlA_Y"
      },
      "source": [
        "### Train Linear Regression Models with Feature Selection under Cases 1 & 2\n",
        "* When training a machine learning model for prediction, we may need to select the most important/correlated input features for more accurate results.\n",
        "* To investigate whether feature selection affects the model performance, please select two most correlated features and two least correlated features from helpfulness/gender/category/review regarding rating, respectively.\n",
        "* Train four linear regression models by following the conditions:\n",
        "    - (model-a) using the training/testing data in case 1 with two most correlated input features\n",
        "    - (model-b) using the training/testing data in case 1 with two least correlated input features\n",
        "    - (model-c) using the training/testing data in case 2 with two most correlated input features\n",
        "    - (model-d) using the training/testing data in case 2 with two least correlated input features\n",
        "* By doing this, we can verify the impacts of the size of traing/testing data on the model performance via comparing model-a and model-c (or model-b and model-d); meanwhile the impacts of feature selection can be validated via comparing model-a and model-b (or model-c and model-d).    "
      ]
    },
    {
      "cell_type": "code",
      "execution_count": null,
      "id": "DASzPUATlA_Z",
      "metadata": {
        "id": "DASzPUATlA_Z"
      },
      "outputs": [],
      "source": []
    },
    {
      "cell_type": "markdown",
      "id": "KATSn7hYlA_Z",
      "metadata": {
        "id": "KATSn7hYlA_Z"
      },
      "source": [
        "### Evaluate Models\n",
        "* Evaluate the performance of the four models with two metrics, including MSE and Root MSE\n",
        "* Print the results of the four models regarding the two metrics"
      ]
    },
    {
      "cell_type": "code",
      "execution_count": null,
      "id": "4fU8GPS9lA_Z",
      "metadata": {
        "id": "4fU8GPS9lA_Z"
      },
      "outputs": [],
      "source": []
    },
    {
      "cell_type": "markdown",
      "id": "Y9jx-eY6lA_a",
      "metadata": {
        "id": "Y9jx-eY6lA_a"
      },
      "source": [
        "### Visualize, Compare and Analyze the Results\n",
        "* Visulize the results, and perform ___insightful analysis___ on the obtained results. For better visualization, you may need to carefully set the scale for the y-axis.\n",
        "* Normally, the model trained with most correlated features and more training data will get better results. Do you obtain the similar observations? If not, please ___explain the possible reasons___."
      ]
    },
    {
      "cell_type": "code",
      "execution_count": null,
      "id": "3TNAIGDilA_a",
      "metadata": {
        "id": "3TNAIGDilA_a"
      },
      "outputs": [],
      "source": []
    },
    {
      "cell_type": "markdown",
      "id": "f9ee01ac",
      "metadata": {
        "id": "f9ee01ac"
      },
      "source": [
        "### Data Science Ethics\n",
        "*Please read the following examples [Click here to read the example_1.](https://www.vox.com/covid-19-coronavirus-us-response-trump/2020/5/18/21262265/georgia-covid-19-cases-declining-reopening) [Click here to read the example_2.](https://viborc.com/ethics-and-ethical-data-visualization-a-complete-guide/)\n",
        "\n",
        "*Then view the picture ![My Image](figure_portfolio2.png \"This is my image\")\n",
        "Please compose an analysis of 100-200 words that evaluates potential ethical concerns associated with the infographic, detailing the reasons behind these issues.\n"
      ]
    },
    {
      "cell_type": "code",
      "execution_count": null,
      "id": "44f30e9b",
      "metadata": {
        "id": "44f30e9b"
      },
      "outputs": [],
      "source": []
    },
    {
      "cell_type": "code",
      "execution_count": null,
      "id": "0511889d",
      "metadata": {
        "id": "0511889d"
      },
      "outputs": [],
      "source": []
    }
  ],
  "metadata": {
    "colab": {
      "provenance": []
    },
    "kernelspec": {
      "display_name": "Python 3 (ipykernel)",
      "language": "python",
      "name": "python3"
    },
    "language_info": {
      "codemirror_mode": {
        "name": "ipython",
        "version": 3
      },
      "file_extension": ".py",
      "mimetype": "text/x-python",
      "name": "python",
      "nbconvert_exporter": "python",
      "pygments_lexer": "ipython3",
      "version": "3.11.7"
    }
  },
  "nbformat": 4,
  "nbformat_minor": 5
}
